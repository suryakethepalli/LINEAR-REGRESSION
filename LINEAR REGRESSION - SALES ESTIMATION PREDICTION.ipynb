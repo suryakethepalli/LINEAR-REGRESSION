{
 "cells": [
  {
   "cell_type": "markdown",
   "id": "978922e9",
   "metadata": {},
   "source": [
    "# Linear Regression with python"
   ]
  },
  {
   "cell_type": "markdown",
   "id": "e6cf756f",
   "metadata": {},
   "source": [
    "# Import the Libraries"
   ]
  },
  {
   "cell_type": "code",
   "execution_count": 108,
   "id": "9bbf00d9",
   "metadata": {},
   "outputs": [],
   "source": [
    "import warnings\n",
    "warnings.simplefilter('ignore')"
   ]
  },
  {
   "cell_type": "markdown",
   "id": "10659ffb",
   "metadata": {},
   "source": [
    "# Import Numpy and Pandas Libraries"
   ]
  },
  {
   "cell_type": "code",
   "execution_count": 109,
   "id": "1b960218",
   "metadata": {},
   "outputs": [],
   "source": [
    "import numpy as np\n",
    "import pandas as pd"
   ]
  },
  {
   "cell_type": "markdown",
   "id": "0edda575",
   "metadata": {},
   "source": [
    "# Import data visualization libraries"
   ]
  },
  {
   "cell_type": "code",
   "execution_count": 110,
   "id": "7e260dda",
   "metadata": {},
   "outputs": [],
   "source": [
    "import matplotlib.pyplot as plt\n",
    "%matplotlib inline"
   ]
  },
  {
   "cell_type": "markdown",
   "id": "fe3232a4",
   "metadata": {},
   "source": [
    "# Import the dataset"
   ]
  },
  {
   "cell_type": "code",
   "execution_count": 111,
   "id": "959a614f",
   "metadata": {},
   "outputs": [],
   "source": [
    "dataset = pd.read_csv('Advertising_data.csv')"
   ]
  },
  {
   "cell_type": "code",
   "execution_count": 112,
   "id": "d2112d35",
   "metadata": {},
   "outputs": [
    {
     "data": {
      "text/html": [
       "<div>\n",
       "<style scoped>\n",
       "    .dataframe tbody tr th:only-of-type {\n",
       "        vertical-align: middle;\n",
       "    }\n",
       "\n",
       "    .dataframe tbody tr th {\n",
       "        vertical-align: top;\n",
       "    }\n",
       "\n",
       "    .dataframe thead th {\n",
       "        text-align: right;\n",
       "    }\n",
       "</style>\n",
       "<table border=\"1\" class=\"dataframe\">\n",
       "  <thead>\n",
       "    <tr style=\"text-align: right;\">\n",
       "      <th></th>\n",
       "      <th>TV</th>\n",
       "      <th>radio</th>\n",
       "      <th>newspaper</th>\n",
       "      <th>sales</th>\n",
       "    </tr>\n",
       "  </thead>\n",
       "  <tbody>\n",
       "    <tr>\n",
       "      <th>0</th>\n",
       "      <td>230.1</td>\n",
       "      <td>37.8</td>\n",
       "      <td>69.2</td>\n",
       "      <td>2210</td>\n",
       "    </tr>\n",
       "    <tr>\n",
       "      <th>1</th>\n",
       "      <td>44.5</td>\n",
       "      <td>39.3</td>\n",
       "      <td>45.1</td>\n",
       "      <td>1040</td>\n",
       "    </tr>\n",
       "    <tr>\n",
       "      <th>2</th>\n",
       "      <td>17.2</td>\n",
       "      <td>45.9</td>\n",
       "      <td>69.3</td>\n",
       "      <td>930</td>\n",
       "    </tr>\n",
       "    <tr>\n",
       "      <th>3</th>\n",
       "      <td>151.5</td>\n",
       "      <td>41.3</td>\n",
       "      <td>58.5</td>\n",
       "      <td>1850</td>\n",
       "    </tr>\n",
       "    <tr>\n",
       "      <th>4</th>\n",
       "      <td>180.8</td>\n",
       "      <td>10.8</td>\n",
       "      <td>58.4</td>\n",
       "      <td>1290</td>\n",
       "    </tr>\n",
       "    <tr>\n",
       "      <th>...</th>\n",
       "      <td>...</td>\n",
       "      <td>...</td>\n",
       "      <td>...</td>\n",
       "      <td>...</td>\n",
       "    </tr>\n",
       "    <tr>\n",
       "      <th>195</th>\n",
       "      <td>38.2</td>\n",
       "      <td>3.7</td>\n",
       "      <td>13.8</td>\n",
       "      <td>760</td>\n",
       "    </tr>\n",
       "    <tr>\n",
       "      <th>196</th>\n",
       "      <td>94.2</td>\n",
       "      <td>4.9</td>\n",
       "      <td>8.1</td>\n",
       "      <td>970</td>\n",
       "    </tr>\n",
       "    <tr>\n",
       "      <th>197</th>\n",
       "      <td>177.0</td>\n",
       "      <td>9.3</td>\n",
       "      <td>6.4</td>\n",
       "      <td>1280</td>\n",
       "    </tr>\n",
       "    <tr>\n",
       "      <th>198</th>\n",
       "      <td>283.6</td>\n",
       "      <td>42.0</td>\n",
       "      <td>66.2</td>\n",
       "      <td>2550</td>\n",
       "    </tr>\n",
       "    <tr>\n",
       "      <th>199</th>\n",
       "      <td>232.1</td>\n",
       "      <td>8.6</td>\n",
       "      <td>8.7</td>\n",
       "      <td>1340</td>\n",
       "    </tr>\n",
       "  </tbody>\n",
       "</table>\n",
       "<p>200 rows × 4 columns</p>\n",
       "</div>"
      ],
      "text/plain": [
       "        TV  radio  newspaper  sales\n",
       "0    230.1   37.8       69.2   2210\n",
       "1     44.5   39.3       45.1   1040\n",
       "2     17.2   45.9       69.3    930\n",
       "3    151.5   41.3       58.5   1850\n",
       "4    180.8   10.8       58.4   1290\n",
       "..     ...    ...        ...    ...\n",
       "195   38.2    3.7       13.8    760\n",
       "196   94.2    4.9        8.1    970\n",
       "197  177.0    9.3        6.4   1280\n",
       "198  283.6   42.0       66.2   2550\n",
       "199  232.1    8.6        8.7   1340\n",
       "\n",
       "[200 rows x 4 columns]"
      ]
     },
     "execution_count": 112,
     "metadata": {},
     "output_type": "execute_result"
    }
   ],
   "source": [
    "dataset"
   ]
  },
  {
   "cell_type": "markdown",
   "id": "b7d0b5c1",
   "metadata": {},
   "source": [
    "# Understand the dataset"
   ]
  },
  {
   "cell_type": "code",
   "execution_count": 113,
   "id": "b0946eec",
   "metadata": {},
   "outputs": [
    {
     "data": {
      "text/plain": [
       "(200, 4)"
      ]
     },
     "execution_count": 113,
     "metadata": {},
     "output_type": "execute_result"
    }
   ],
   "source": [
    "dataset.shape"
   ]
  },
  {
   "cell_type": "code",
   "execution_count": 114,
   "id": "32401738",
   "metadata": {},
   "outputs": [
    {
     "data": {
      "text/html": [
       "<div>\n",
       "<style scoped>\n",
       "    .dataframe tbody tr th:only-of-type {\n",
       "        vertical-align: middle;\n",
       "    }\n",
       "\n",
       "    .dataframe tbody tr th {\n",
       "        vertical-align: top;\n",
       "    }\n",
       "\n",
       "    .dataframe thead th {\n",
       "        text-align: right;\n",
       "    }\n",
       "</style>\n",
       "<table border=\"1\" class=\"dataframe\">\n",
       "  <thead>\n",
       "    <tr style=\"text-align: right;\">\n",
       "      <th></th>\n",
       "      <th>TV</th>\n",
       "      <th>radio</th>\n",
       "      <th>newspaper</th>\n",
       "      <th>sales</th>\n",
       "    </tr>\n",
       "  </thead>\n",
       "  <tbody>\n",
       "    <tr>\n",
       "      <th>0</th>\n",
       "      <td>230.1</td>\n",
       "      <td>37.8</td>\n",
       "      <td>69.2</td>\n",
       "      <td>2210</td>\n",
       "    </tr>\n",
       "    <tr>\n",
       "      <th>1</th>\n",
       "      <td>44.5</td>\n",
       "      <td>39.3</td>\n",
       "      <td>45.1</td>\n",
       "      <td>1040</td>\n",
       "    </tr>\n",
       "    <tr>\n",
       "      <th>2</th>\n",
       "      <td>17.2</td>\n",
       "      <td>45.9</td>\n",
       "      <td>69.3</td>\n",
       "      <td>930</td>\n",
       "    </tr>\n",
       "    <tr>\n",
       "      <th>3</th>\n",
       "      <td>151.5</td>\n",
       "      <td>41.3</td>\n",
       "      <td>58.5</td>\n",
       "      <td>1850</td>\n",
       "    </tr>\n",
       "    <tr>\n",
       "      <th>4</th>\n",
       "      <td>180.8</td>\n",
       "      <td>10.8</td>\n",
       "      <td>58.4</td>\n",
       "      <td>1290</td>\n",
       "    </tr>\n",
       "  </tbody>\n",
       "</table>\n",
       "</div>"
      ],
      "text/plain": [
       "      TV  radio  newspaper  sales\n",
       "0  230.1   37.8       69.2   2210\n",
       "1   44.5   39.3       45.1   1040\n",
       "2   17.2   45.9       69.3    930\n",
       "3  151.5   41.3       58.5   1850\n",
       "4  180.8   10.8       58.4   1290"
      ]
     },
     "execution_count": 114,
     "metadata": {},
     "output_type": "execute_result"
    }
   ],
   "source": [
    "dataset.head()"
   ]
  },
  {
   "cell_type": "markdown",
   "id": "f377aacd",
   "metadata": {},
   "source": [
    "# Slicing the dataset"
   ]
  },
  {
   "cell_type": "code",
   "execution_count": 115,
   "id": "6a14a769",
   "metadata": {},
   "outputs": [],
   "source": [
    "dataset = dataset.drop(['radio','newspaper'],axis = 1)"
   ]
  },
  {
   "cell_type": "code",
   "execution_count": 116,
   "id": "969b1900",
   "metadata": {},
   "outputs": [
    {
     "data": {
      "text/html": [
       "<div>\n",
       "<style scoped>\n",
       "    .dataframe tbody tr th:only-of-type {\n",
       "        vertical-align: middle;\n",
       "    }\n",
       "\n",
       "    .dataframe tbody tr th {\n",
       "        vertical-align: top;\n",
       "    }\n",
       "\n",
       "    .dataframe thead th {\n",
       "        text-align: right;\n",
       "    }\n",
       "</style>\n",
       "<table border=\"1\" class=\"dataframe\">\n",
       "  <thead>\n",
       "    <tr style=\"text-align: right;\">\n",
       "      <th></th>\n",
       "      <th>TV</th>\n",
       "      <th>sales</th>\n",
       "    </tr>\n",
       "  </thead>\n",
       "  <tbody>\n",
       "    <tr>\n",
       "      <th>0</th>\n",
       "      <td>230.1</td>\n",
       "      <td>2210</td>\n",
       "    </tr>\n",
       "    <tr>\n",
       "      <th>1</th>\n",
       "      <td>44.5</td>\n",
       "      <td>1040</td>\n",
       "    </tr>\n",
       "    <tr>\n",
       "      <th>2</th>\n",
       "      <td>17.2</td>\n",
       "      <td>930</td>\n",
       "    </tr>\n",
       "    <tr>\n",
       "      <th>3</th>\n",
       "      <td>151.5</td>\n",
       "      <td>1850</td>\n",
       "    </tr>\n",
       "    <tr>\n",
       "      <th>4</th>\n",
       "      <td>180.8</td>\n",
       "      <td>1290</td>\n",
       "    </tr>\n",
       "    <tr>\n",
       "      <th>...</th>\n",
       "      <td>...</td>\n",
       "      <td>...</td>\n",
       "    </tr>\n",
       "    <tr>\n",
       "      <th>195</th>\n",
       "      <td>38.2</td>\n",
       "      <td>760</td>\n",
       "    </tr>\n",
       "    <tr>\n",
       "      <th>196</th>\n",
       "      <td>94.2</td>\n",
       "      <td>970</td>\n",
       "    </tr>\n",
       "    <tr>\n",
       "      <th>197</th>\n",
       "      <td>177.0</td>\n",
       "      <td>1280</td>\n",
       "    </tr>\n",
       "    <tr>\n",
       "      <th>198</th>\n",
       "      <td>283.6</td>\n",
       "      <td>2550</td>\n",
       "    </tr>\n",
       "    <tr>\n",
       "      <th>199</th>\n",
       "      <td>232.1</td>\n",
       "      <td>1340</td>\n",
       "    </tr>\n",
       "  </tbody>\n",
       "</table>\n",
       "<p>200 rows × 2 columns</p>\n",
       "</div>"
      ],
      "text/plain": [
       "        TV  sales\n",
       "0    230.1   2210\n",
       "1     44.5   1040\n",
       "2     17.2    930\n",
       "3    151.5   1850\n",
       "4    180.8   1290\n",
       "..     ...    ...\n",
       "195   38.2    760\n",
       "196   94.2    970\n",
       "197  177.0   1280\n",
       "198  283.6   2550\n",
       "199  232.1   1340\n",
       "\n",
       "[200 rows x 2 columns]"
      ]
     },
     "execution_count": 116,
     "metadata": {},
     "output_type": "execute_result"
    }
   ],
   "source": [
    "dataset"
   ]
  },
  {
   "cell_type": "markdown",
   "id": "8e3614b8",
   "metadata": {},
   "source": [
    "# Segregate and reshape the variables"
   ]
  },
  {
   "cell_type": "code",
   "execution_count": 117,
   "id": "f78675f4",
   "metadata": {},
   "outputs": [],
   "source": [
    "x = dataset.iloc[:,0]"
   ]
  },
  {
   "cell_type": "code",
   "execution_count": 118,
   "id": "b25e18f5",
   "metadata": {},
   "outputs": [
    {
     "data": {
      "text/plain": [
       "(200,)"
      ]
     },
     "execution_count": 118,
     "metadata": {},
     "output_type": "execute_result"
    }
   ],
   "source": [
    "x.shape"
   ]
  },
  {
   "cell_type": "code",
   "execution_count": 119,
   "id": "b2e92a6c",
   "metadata": {},
   "outputs": [
    {
     "data": {
      "text/plain": [
       "0      230.1\n",
       "1       44.5\n",
       "2       17.2\n",
       "3      151.5\n",
       "4      180.8\n",
       "       ...  \n",
       "195     38.2\n",
       "196     94.2\n",
       "197    177.0\n",
       "198    283.6\n",
       "199    232.1\n",
       "Name: TV, Length: 200, dtype: float64"
      ]
     },
     "execution_count": 119,
     "metadata": {},
     "output_type": "execute_result"
    }
   ],
   "source": [
    "x"
   ]
  },
  {
   "cell_type": "code",
   "execution_count": 120,
   "id": "002790cf",
   "metadata": {},
   "outputs": [],
   "source": [
    "x = dataset.iloc[:,0].values.reshape(-1,1)"
   ]
  },
  {
   "cell_type": "code",
   "execution_count": 121,
   "id": "eb0b48f9",
   "metadata": {},
   "outputs": [
    {
     "data": {
      "text/plain": [
       "(200, 1)"
      ]
     },
     "execution_count": 121,
     "metadata": {},
     "output_type": "execute_result"
    }
   ],
   "source": [
    "x.shape"
   ]
  },
  {
   "cell_type": "code",
   "execution_count": 122,
   "id": "cea70f72",
   "metadata": {},
   "outputs": [
    {
     "data": {
      "text/plain": [
       "array([[230.1],\n",
       "       [ 44.5],\n",
       "       [ 17.2],\n",
       "       [151.5],\n",
       "       [180.8],\n",
       "       [  8.7],\n",
       "       [ 57.5],\n",
       "       [120.2],\n",
       "       [  8.6],\n",
       "       [199.8],\n",
       "       [ 66.1],\n",
       "       [214.7],\n",
       "       [ 23.8],\n",
       "       [ 97.5],\n",
       "       [204.1],\n",
       "       [195.4],\n",
       "       [ 67.8],\n",
       "       [281.4],\n",
       "       [ 69.2],\n",
       "       [147.3],\n",
       "       [218.4],\n",
       "       [237.4],\n",
       "       [ 13.2],\n",
       "       [228.3],\n",
       "       [ 62.3],\n",
       "       [262.9],\n",
       "       [142.9],\n",
       "       [240.1],\n",
       "       [248.8],\n",
       "       [ 70.6],\n",
       "       [292.9],\n",
       "       [112.9],\n",
       "       [ 97.2],\n",
       "       [265.6],\n",
       "       [ 95.7],\n",
       "       [290.7],\n",
       "       [266.9],\n",
       "       [ 74.7],\n",
       "       [ 43.1],\n",
       "       [228. ],\n",
       "       [202.5],\n",
       "       [177. ],\n",
       "       [293.6],\n",
       "       [206.9],\n",
       "       [ 25.1],\n",
       "       [175.1],\n",
       "       [ 89.7],\n",
       "       [239.9],\n",
       "       [227.2],\n",
       "       [ 66.9],\n",
       "       [199.8],\n",
       "       [100.4],\n",
       "       [216.4],\n",
       "       [182.6],\n",
       "       [262.7],\n",
       "       [198.9],\n",
       "       [  7.3],\n",
       "       [136.2],\n",
       "       [210.8],\n",
       "       [210.7],\n",
       "       [ 53.5],\n",
       "       [261.3],\n",
       "       [239.3],\n",
       "       [102.7],\n",
       "       [131.1],\n",
       "       [ 69. ],\n",
       "       [ 31.5],\n",
       "       [139.3],\n",
       "       [237.4],\n",
       "       [216.8],\n",
       "       [199.1],\n",
       "       [109.8],\n",
       "       [ 26.8],\n",
       "       [129.4],\n",
       "       [213.4],\n",
       "       [ 16.9],\n",
       "       [ 27.5],\n",
       "       [120.5],\n",
       "       [  5.4],\n",
       "       [116. ],\n",
       "       [ 76.4],\n",
       "       [239.8],\n",
       "       [ 75.3],\n",
       "       [ 68.4],\n",
       "       [213.5],\n",
       "       [193.2],\n",
       "       [ 76.3],\n",
       "       [110.7],\n",
       "       [ 88.3],\n",
       "       [109.8],\n",
       "       [134.3],\n",
       "       [ 28.6],\n",
       "       [217.7],\n",
       "       [250.9],\n",
       "       [107.4],\n",
       "       [163.3],\n",
       "       [197.6],\n",
       "       [184.9],\n",
       "       [289.7],\n",
       "       [135.2],\n",
       "       [222.4],\n",
       "       [296.4],\n",
       "       [280.2],\n",
       "       [187.9],\n",
       "       [238.2],\n",
       "       [137.9],\n",
       "       [ 25. ],\n",
       "       [ 90.4],\n",
       "       [ 13.1],\n",
       "       [255.4],\n",
       "       [225.8],\n",
       "       [241.7],\n",
       "       [175.7],\n",
       "       [209.6],\n",
       "       [ 78.2],\n",
       "       [ 75.1],\n",
       "       [139.2],\n",
       "       [ 76.4],\n",
       "       [125.7],\n",
       "       [ 19.4],\n",
       "       [141.3],\n",
       "       [ 18.8],\n",
       "       [224. ],\n",
       "       [123.1],\n",
       "       [229.5],\n",
       "       [ 87.2],\n",
       "       [  7.8],\n",
       "       [ 80.2],\n",
       "       [220.3],\n",
       "       [ 59.6],\n",
       "       [  0.7],\n",
       "       [265.2],\n",
       "       [  8.4],\n",
       "       [219.8],\n",
       "       [ 36.9],\n",
       "       [ 48.3],\n",
       "       [ 25.6],\n",
       "       [273.7],\n",
       "       [ 43. ],\n",
       "       [184.9],\n",
       "       [ 73.4],\n",
       "       [193.7],\n",
       "       [220.5],\n",
       "       [104.6],\n",
       "       [ 96.2],\n",
       "       [140.3],\n",
       "       [240.1],\n",
       "       [243.2],\n",
       "       [ 38. ],\n",
       "       [ 44.7],\n",
       "       [280.7],\n",
       "       [121. ],\n",
       "       [197.6],\n",
       "       [171.3],\n",
       "       [187.8],\n",
       "       [  4.1],\n",
       "       [ 93.9],\n",
       "       [149.8],\n",
       "       [ 11.7],\n",
       "       [131.7],\n",
       "       [172.5],\n",
       "       [ 85.7],\n",
       "       [188.4],\n",
       "       [163.5],\n",
       "       [117.2],\n",
       "       [234.5],\n",
       "       [ 17.9],\n",
       "       [206.8],\n",
       "       [215.4],\n",
       "       [284.3],\n",
       "       [ 50. ],\n",
       "       [164.5],\n",
       "       [ 19.6],\n",
       "       [168.4],\n",
       "       [222.4],\n",
       "       [276.9],\n",
       "       [248.4],\n",
       "       [170.2],\n",
       "       [276.7],\n",
       "       [165.6],\n",
       "       [156.6],\n",
       "       [218.5],\n",
       "       [ 56.2],\n",
       "       [287.6],\n",
       "       [253.8],\n",
       "       [205. ],\n",
       "       [139.5],\n",
       "       [191.1],\n",
       "       [286. ],\n",
       "       [ 18.7],\n",
       "       [ 39.5],\n",
       "       [ 75.5],\n",
       "       [ 17.2],\n",
       "       [166.8],\n",
       "       [149.7],\n",
       "       [ 38.2],\n",
       "       [ 94.2],\n",
       "       [177. ],\n",
       "       [283.6],\n",
       "       [232.1]])"
      ]
     },
     "execution_count": 122,
     "metadata": {},
     "output_type": "execute_result"
    }
   ],
   "source": [
    "x"
   ]
  },
  {
   "cell_type": "code",
   "execution_count": 123,
   "id": "74e14a39",
   "metadata": {},
   "outputs": [],
   "source": [
    "y = dataset.iloc[:,-1].values.reshape(-1,1)"
   ]
  },
  {
   "cell_type": "code",
   "execution_count": 124,
   "id": "78115145",
   "metadata": {},
   "outputs": [
    {
     "data": {
      "text/plain": [
       "(200, 1)"
      ]
     },
     "execution_count": 124,
     "metadata": {},
     "output_type": "execute_result"
    }
   ],
   "source": [
    "y.shape"
   ]
  },
  {
   "cell_type": "code",
   "execution_count": 125,
   "id": "eaff740a",
   "metadata": {},
   "outputs": [
    {
     "data": {
      "text/plain": [
       "array([[2210],\n",
       "       [1040],\n",
       "       [ 930],\n",
       "       [1850],\n",
       "       [1290],\n",
       "       [ 720],\n",
       "       [1180],\n",
       "       [1320],\n",
       "       [ 480],\n",
       "       [1060],\n",
       "       [ 860],\n",
       "       [1740],\n",
       "       [ 920],\n",
       "       [ 970],\n",
       "       [1900],\n",
       "       [2240],\n",
       "       [1250],\n",
       "       [2440],\n",
       "       [1130],\n",
       "       [1460],\n",
       "       [1800],\n",
       "       [1250],\n",
       "       [ 560],\n",
       "       [1550],\n",
       "       [ 970],\n",
       "       [1200],\n",
       "       [1500],\n",
       "       [1590],\n",
       "       [1890],\n",
       "       [1050],\n",
       "       [2140],\n",
       "       [1190],\n",
       "       [ 960],\n",
       "       [1740],\n",
       "       [ 950],\n",
       "       [1280],\n",
       "       [2540],\n",
       "       [1470],\n",
       "       [1010],\n",
       "       [2150],\n",
       "       [1660],\n",
       "       [1710],\n",
       "       [2070],\n",
       "       [1290],\n",
       "       [ 850],\n",
       "       [1490],\n",
       "       [1060],\n",
       "       [2320],\n",
       "       [1480],\n",
       "       [ 970],\n",
       "       [1140],\n",
       "       [1070],\n",
       "       [2260],\n",
       "       [2120],\n",
       "       [2020],\n",
       "       [2370],\n",
       "       [ 550],\n",
       "       [1320],\n",
       "       [2380],\n",
       "       [1840],\n",
       "       [ 810],\n",
       "       [2420],\n",
       "       [1570],\n",
       "       [1400],\n",
       "       [1800],\n",
       "       [ 930],\n",
       "       [ 950],\n",
       "       [1340],\n",
       "       [1890],\n",
       "       [2230],\n",
       "       [1830],\n",
       "       [1240],\n",
       "       [ 880],\n",
       "       [1100],\n",
       "       [1700],\n",
       "       [ 870],\n",
       "       [ 690],\n",
       "       [1420],\n",
       "       [ 530],\n",
       "       [1100],\n",
       "       [1180],\n",
       "       [1230],\n",
       "       [1130],\n",
       "       [1360],\n",
       "       [2170],\n",
       "       [1520],\n",
       "       [1200],\n",
       "       [1600],\n",
       "       [1290],\n",
       "       [1670],\n",
       "       [1120],\n",
       "       [ 730],\n",
       "       [1940],\n",
       "       [2220],\n",
       "       [1150],\n",
       "       [1690],\n",
       "       [1170],\n",
       "       [1550],\n",
       "       [2540],\n",
       "       [1720],\n",
       "       [1170],\n",
       "       [2380],\n",
       "       [1480],\n",
       "       [1470],\n",
       "       [2070],\n",
       "       [1920],\n",
       "       [ 720],\n",
       "       [ 870],\n",
       "       [ 530],\n",
       "       [1980],\n",
       "       [1340],\n",
       "       [2180],\n",
       "       [1410],\n",
       "       [1590],\n",
       "       [1460],\n",
       "       [1260],\n",
       "       [1220],\n",
       "       [ 940],\n",
       "       [1590],\n",
       "       [ 660],\n",
       "       [1550],\n",
       "       [ 700],\n",
       "       [1160],\n",
       "       [1520],\n",
       "       [1970],\n",
       "       [1060],\n",
       "       [ 660],\n",
       "       [ 880],\n",
       "       [2470],\n",
       "       [ 970],\n",
       "       [ 160],\n",
       "       [1270],\n",
       "       [ 570],\n",
       "       [1960],\n",
       "       [1080],\n",
       "       [1160],\n",
       "       [ 950],\n",
       "       [2080],\n",
       "       [ 960],\n",
       "       [2070],\n",
       "       [1090],\n",
       "       [1920],\n",
       "       [2010],\n",
       "       [1040],\n",
       "       [1140],\n",
       "       [1030],\n",
       "       [1320],\n",
       "       [2540],\n",
       "       [1090],\n",
       "       [1010],\n",
       "       [1610],\n",
       "       [1160],\n",
       "       [1660],\n",
       "       [1900],\n",
       "       [1560],\n",
       "       [ 320],\n",
       "       [1530],\n",
       "       [1010],\n",
       "       [ 730],\n",
       "       [1290],\n",
       "       [1440],\n",
       "       [1330],\n",
       "       [1490],\n",
       "       [1800],\n",
       "       [1190],\n",
       "       [1190],\n",
       "       [ 800],\n",
       "       [1220],\n",
       "       [1710],\n",
       "       [1500],\n",
       "       [ 840],\n",
       "       [1450],\n",
       "       [ 760],\n",
       "       [1170],\n",
       "       [1150],\n",
       "       [2700],\n",
       "       [2020],\n",
       "       [1170],\n",
       "       [1180],\n",
       "       [1260],\n",
       "       [1050],\n",
       "       [1220],\n",
       "       [ 870],\n",
       "       [2620],\n",
       "       [1760],\n",
       "       [2260],\n",
       "       [1030],\n",
       "       [1730],\n",
       "       [1590],\n",
       "       [ 670],\n",
       "       [1080],\n",
       "       [ 990],\n",
       "       [ 590],\n",
       "       [1960],\n",
       "       [1730],\n",
       "       [ 760],\n",
       "       [ 970],\n",
       "       [1280],\n",
       "       [2550],\n",
       "       [1340]], dtype=int64)"
      ]
     },
     "execution_count": 125,
     "metadata": {},
     "output_type": "execute_result"
    }
   ],
   "source": [
    "y"
   ]
  },
  {
   "cell_type": "markdown",
   "id": "6e42adb0",
   "metadata": {},
   "source": [
    "# Scatter plot"
   ]
  },
  {
   "cell_type": "code",
   "execution_count": 126,
   "id": "1dafff34",
   "metadata": {},
   "outputs": [
    {
     "data": {
      "text/plain": [
       "<matplotlib.collections.PathCollection at 0x22524c92a60>"
      ]
     },
     "execution_count": 126,
     "metadata": {},
     "output_type": "execute_result"
    },
    {
     "data": {
      "image/png": "[encoded data removed]",
      "text/plain": [
       "<Figure size 432x288 with 1 Axes>"
      ]
     },
     "metadata": {
      "needs_background": "light"
     },
     "output_type": "display_data"
    }
   ],
   "source": [
    "plt.scatter(x,y)"
   ]
  },
  {
   "cell_type": "markdown",
   "id": "db6ba977",
   "metadata": {},
   "source": [
    "# Divide the dataset into training and test set"
   ]
  },
  {
   "cell_type": "code",
   "execution_count": 127,
   "id": "f3657e1b",
   "metadata": {},
   "outputs": [],
   "source": [
    "from sklearn.model_selection import train_test_split"
   ]
  },
  {
   "cell_type": "code",
   "execution_count": 128,
   "id": "6a618d35",
   "metadata": {},
   "outputs": [],
   "source": [
    "x_train, x_test, y_train, y_test = train_test_split(x,y,test_size = 0.2,random_state=0)"
   ]
  },
  {
   "cell_type": "code",
   "execution_count": 129,
   "id": "26cdc501",
   "metadata": {},
   "outputs": [
    {
     "data": {
      "text/plain": [
       "(160, 1)"
      ]
     },
     "execution_count": 129,
     "metadata": {},
     "output_type": "execute_result"
    }
   ],
   "source": [
    "x_train.shape"
   ]
  },
  {
   "cell_type": "code",
   "execution_count": 130,
   "id": "f59833c2",
   "metadata": {},
   "outputs": [
    {
     "data": {
      "text/plain": [
       "(40, 1)"
      ]
     },
     "execution_count": 130,
     "metadata": {},
     "output_type": "execute_result"
    }
   ],
   "source": [
    "x_test.shape"
   ]
  },
  {
   "cell_type": "code",
   "execution_count": 131,
   "id": "d844ee94",
   "metadata": {},
   "outputs": [
    {
     "data": {
      "text/plain": [
       "(160, 1)"
      ]
     },
     "execution_count": 131,
     "metadata": {},
     "output_type": "execute_result"
    }
   ],
   "source": [
    "y_train.shape"
   ]
  },
  {
   "cell_type": "code",
   "execution_count": 132,
   "id": "0b7f99ab",
   "metadata": {},
   "outputs": [
    {
     "data": {
      "text/plain": [
       "(40, 1)"
      ]
     },
     "execution_count": 132,
     "metadata": {},
     "output_type": "execute_result"
    }
   ],
   "source": [
    "y_test.shape"
   ]
  },
  {
   "cell_type": "markdown",
   "id": "64c9c552",
   "metadata": {},
   "source": [
    "# Perform the Linear Regression"
   ]
  },
  {
   "cell_type": "markdown",
   "id": "82111b06",
   "metadata": {},
   "source": [
    "# Import the function"
   ]
  },
  {
   "cell_type": "code",
   "execution_count": 133,
   "id": "4faa930c",
   "metadata": {},
   "outputs": [],
   "source": [
    "from sklearn.linear_model import LinearRegression"
   ]
  },
  {
   "cell_type": "code",
   "execution_count": 134,
   "id": "1e474dc6",
   "metadata": {},
   "outputs": [],
   "source": [
    "lm = LinearRegression()"
   ]
  },
  {
   "cell_type": "markdown",
   "id": "a456cfb2",
   "metadata": {},
   "source": [
    "# Train the Model"
   ]
  },
  {
   "cell_type": "code",
   "execution_count": 135,
   "id": "ceb745fb",
   "metadata": {},
   "outputs": [
    {
     "data": {
      "text/plain": [
       "LinearRegression()"
      ]
     },
     "execution_count": 135,
     "metadata": {},
     "output_type": "execute_result"
    }
   ],
   "source": [
    "lm.fit(x_train, y_train)"
   ]
  },
  {
   "cell_type": "markdown",
   "id": "c35c07d5",
   "metadata": {},
   "source": [
    "# Predict the chance of admit - Testing phase"
   ]
  },
  {
   "cell_type": "code",
   "execution_count": 136,
   "id": "4b2ecf43",
   "metadata": {},
   "outputs": [],
   "source": [
    "y_pred = lm.predict(x_test)"
   ]
  },
  {
   "cell_type": "code",
   "execution_count": 137,
   "id": "2630a375",
   "metadata": {},
   "outputs": [
    {
     "data": {
      "text/plain": [
       "array([[1047.62328141],\n",
       "       [ 959.28832537],\n",
       "       [1145.15979537],\n",
       "       [2062.09504216],\n",
       "       [1512.3019564 ],\n",
       "       [ 987.81315492],\n",
       "       [ 769.27615431],\n",
       "       [1833.89640572],\n",
       "       [ 838.74791661],\n",
       "       [1638.36329991],\n",
       "       [1931.43291968],\n",
       "       [1130.43730269],\n",
       "       [1449.73136254],\n",
       "       [1593.2756661 ],\n",
       "       [1080.74888992],\n",
       "       [1282.26300838],\n",
       "       [1951.21626921],\n",
       "       [ 732.46992263],\n",
       "       [1072.92756569],\n",
       "       [1711.05560748],\n",
       "       [2052.43340634],\n",
       "       [1374.73866549],\n",
       "       [1534.8457733 ],\n",
       "       [1335.17196643],\n",
       "       [ 975.39105173],\n",
       "       [1295.60526737],\n",
       "       [1491.13837318],\n",
       "       [1672.40906422],\n",
       "       [1759.82386446],\n",
       "       [ 844.72892926],\n",
       "       [1041.18219086],\n",
       "       [1644.34431256],\n",
       "       [2020.68803151],\n",
       "       [1841.25765206],\n",
       "       [ 789.97965963],\n",
       "       [ 815.28394391],\n",
       "       [1003.45580339],\n",
       "       [1561.07021338],\n",
       "       [1043.94265824],\n",
       "       [ 844.26885136]])"
      ]
     },
     "execution_count": 137,
     "metadata": {},
     "output_type": "execute_result"
    }
   ],
   "source": [
    "y_pred"
   ]
  },
  {
   "cell_type": "markdown",
   "id": "16184ecf",
   "metadata": {},
   "source": [
    "# Check our Prediction"
   ]
  },
  {
   "cell_type": "code",
   "execution_count": 138,
   "id": "f2343461",
   "metadata": {},
   "outputs": [],
   "source": [
    "check = pd.DataFrame(x_test,columns = ['TV'])"
   ]
  },
  {
   "cell_type": "code",
   "execution_count": 139,
   "id": "92ea9571",
   "metadata": {},
   "outputs": [],
   "source": [
    "check['Sales Acutal']=y_test"
   ]
  },
  {
   "cell_type": "code",
   "execution_count": 140,
   "id": "d4ebed89",
   "metadata": {},
   "outputs": [],
   "source": [
    "check['Sales Predicted'] = y_pred"
   ]
  },
  {
   "cell_type": "code",
   "execution_count": 141,
   "id": "9c01cd47",
   "metadata": {},
   "outputs": [
    {
     "data": {
      "text/html": [
       "<div>\n",
       "<style scoped>\n",
       "    .dataframe tbody tr th:only-of-type {\n",
       "        vertical-align: middle;\n",
       "    }\n",
       "\n",
       "    .dataframe tbody tr th {\n",
       "        vertical-align: top;\n",
       "    }\n",
       "\n",
       "    .dataframe thead th {\n",
       "        text-align: right;\n",
       "    }\n",
       "</style>\n",
       "<table border=\"1\" class=\"dataframe\">\n",
       "  <thead>\n",
       "    <tr style=\"text-align: right;\">\n",
       "      <th></th>\n",
       "      <th>TV</th>\n",
       "      <th>Sales Acutal</th>\n",
       "      <th>Sales Predicted</th>\n",
       "    </tr>\n",
       "  </thead>\n",
       "  <tbody>\n",
       "    <tr>\n",
       "      <th>0</th>\n",
       "      <td>69.2</td>\n",
       "      <td>1130</td>\n",
       "      <td>1047.623281</td>\n",
       "    </tr>\n",
       "    <tr>\n",
       "      <th>1</th>\n",
       "      <td>50.0</td>\n",
       "      <td>840</td>\n",
       "      <td>959.288325</td>\n",
       "    </tr>\n",
       "    <tr>\n",
       "      <th>2</th>\n",
       "      <td>90.4</td>\n",
       "      <td>870</td>\n",
       "      <td>1145.159795</td>\n",
       "    </tr>\n",
       "    <tr>\n",
       "      <th>3</th>\n",
       "      <td>289.7</td>\n",
       "      <td>2540</td>\n",
       "      <td>2062.095042</td>\n",
       "    </tr>\n",
       "    <tr>\n",
       "      <th>4</th>\n",
       "      <td>170.2</td>\n",
       "      <td>1170</td>\n",
       "      <td>1512.301956</td>\n",
       "    </tr>\n",
       "    <tr>\n",
       "      <th>5</th>\n",
       "      <td>56.2</td>\n",
       "      <td>870</td>\n",
       "      <td>987.813155</td>\n",
       "    </tr>\n",
       "    <tr>\n",
       "      <th>6</th>\n",
       "      <td>8.7</td>\n",
       "      <td>720</td>\n",
       "      <td>769.276154</td>\n",
       "    </tr>\n",
       "    <tr>\n",
       "      <th>7</th>\n",
       "      <td>240.1</td>\n",
       "      <td>1320</td>\n",
       "      <td>1833.896406</td>\n",
       "    </tr>\n",
       "    <tr>\n",
       "      <th>8</th>\n",
       "      <td>23.8</td>\n",
       "      <td>920</td>\n",
       "      <td>838.747917</td>\n",
       "    </tr>\n",
       "    <tr>\n",
       "      <th>9</th>\n",
       "      <td>197.6</td>\n",
       "      <td>1660</td>\n",
       "      <td>1638.363300</td>\n",
       "    </tr>\n",
       "    <tr>\n",
       "      <th>10</th>\n",
       "      <td>261.3</td>\n",
       "      <td>2420</td>\n",
       "      <td>1931.432920</td>\n",
       "    </tr>\n",
       "    <tr>\n",
       "      <th>11</th>\n",
       "      <td>87.2</td>\n",
       "      <td>1060</td>\n",
       "      <td>1130.437303</td>\n",
       "    </tr>\n",
       "    <tr>\n",
       "      <th>12</th>\n",
       "      <td>156.6</td>\n",
       "      <td>1050</td>\n",
       "      <td>1449.731363</td>\n",
       "    </tr>\n",
       "    <tr>\n",
       "      <th>13</th>\n",
       "      <td>187.8</td>\n",
       "      <td>1560</td>\n",
       "      <td>1593.275666</td>\n",
       "    </tr>\n",
       "    <tr>\n",
       "      <th>14</th>\n",
       "      <td>76.4</td>\n",
       "      <td>1180</td>\n",
       "      <td>1080.748890</td>\n",
       "    </tr>\n",
       "    <tr>\n",
       "      <th>15</th>\n",
       "      <td>120.2</td>\n",
       "      <td>1320</td>\n",
       "      <td>1282.263008</td>\n",
       "    </tr>\n",
       "    <tr>\n",
       "      <th>16</th>\n",
       "      <td>265.6</td>\n",
       "      <td>1740</td>\n",
       "      <td>1951.216269</td>\n",
       "    </tr>\n",
       "    <tr>\n",
       "      <th>17</th>\n",
       "      <td>0.7</td>\n",
       "      <td>160</td>\n",
       "      <td>732.469923</td>\n",
       "    </tr>\n",
       "    <tr>\n",
       "      <th>18</th>\n",
       "      <td>74.7</td>\n",
       "      <td>1470</td>\n",
       "      <td>1072.927566</td>\n",
       "    </tr>\n",
       "    <tr>\n",
       "      <th>19</th>\n",
       "      <td>213.4</td>\n",
       "      <td>1700</td>\n",
       "      <td>1711.055607</td>\n",
       "    </tr>\n",
       "    <tr>\n",
       "      <th>20</th>\n",
       "      <td>287.6</td>\n",
       "      <td>2620</td>\n",
       "      <td>2052.433406</td>\n",
       "    </tr>\n",
       "    <tr>\n",
       "      <th>21</th>\n",
       "      <td>140.3</td>\n",
       "      <td>1030</td>\n",
       "      <td>1374.738665</td>\n",
       "    </tr>\n",
       "    <tr>\n",
       "      <th>22</th>\n",
       "      <td>175.1</td>\n",
       "      <td>1490</td>\n",
       "      <td>1534.845773</td>\n",
       "    </tr>\n",
       "    <tr>\n",
       "      <th>23</th>\n",
       "      <td>131.7</td>\n",
       "      <td>1290</td>\n",
       "      <td>1335.171966</td>\n",
       "    </tr>\n",
       "    <tr>\n",
       "      <th>24</th>\n",
       "      <td>53.5</td>\n",
       "      <td>810</td>\n",
       "      <td>975.391052</td>\n",
       "    </tr>\n",
       "    <tr>\n",
       "      <th>25</th>\n",
       "      <td>123.1</td>\n",
       "      <td>1520</td>\n",
       "      <td>1295.605267</td>\n",
       "    </tr>\n",
       "    <tr>\n",
       "      <th>26</th>\n",
       "      <td>165.6</td>\n",
       "      <td>1260</td>\n",
       "      <td>1491.138373</td>\n",
       "    </tr>\n",
       "    <tr>\n",
       "      <th>27</th>\n",
       "      <td>205.0</td>\n",
       "      <td>2260</td>\n",
       "      <td>1672.409064</td>\n",
       "    </tr>\n",
       "    <tr>\n",
       "      <th>28</th>\n",
       "      <td>224.0</td>\n",
       "      <td>1160</td>\n",
       "      <td>1759.823864</td>\n",
       "    </tr>\n",
       "    <tr>\n",
       "      <th>29</th>\n",
       "      <td>25.1</td>\n",
       "      <td>850</td>\n",
       "      <td>844.728929</td>\n",
       "    </tr>\n",
       "    <tr>\n",
       "      <th>30</th>\n",
       "      <td>67.8</td>\n",
       "      <td>1250</td>\n",
       "      <td>1041.182191</td>\n",
       "    </tr>\n",
       "    <tr>\n",
       "      <th>31</th>\n",
       "      <td>198.9</td>\n",
       "      <td>2370</td>\n",
       "      <td>1644.344313</td>\n",
       "    </tr>\n",
       "    <tr>\n",
       "      <th>32</th>\n",
       "      <td>280.7</td>\n",
       "      <td>1610</td>\n",
       "      <td>2020.688032</td>\n",
       "    </tr>\n",
       "    <tr>\n",
       "      <th>33</th>\n",
       "      <td>241.7</td>\n",
       "      <td>2180</td>\n",
       "      <td>1841.257652</td>\n",
       "    </tr>\n",
       "    <tr>\n",
       "      <th>34</th>\n",
       "      <td>13.2</td>\n",
       "      <td>560</td>\n",
       "      <td>789.979660</td>\n",
       "    </tr>\n",
       "    <tr>\n",
       "      <th>35</th>\n",
       "      <td>18.7</td>\n",
       "      <td>670</td>\n",
       "      <td>815.283944</td>\n",
       "    </tr>\n",
       "    <tr>\n",
       "      <th>36</th>\n",
       "      <td>59.6</td>\n",
       "      <td>970</td>\n",
       "      <td>1003.455803</td>\n",
       "    </tr>\n",
       "    <tr>\n",
       "      <th>37</th>\n",
       "      <td>180.8</td>\n",
       "      <td>1290</td>\n",
       "      <td>1561.070213</td>\n",
       "    </tr>\n",
       "    <tr>\n",
       "      <th>38</th>\n",
       "      <td>68.4</td>\n",
       "      <td>1360</td>\n",
       "      <td>1043.942658</td>\n",
       "    </tr>\n",
       "    <tr>\n",
       "      <th>39</th>\n",
       "      <td>25.0</td>\n",
       "      <td>720</td>\n",
       "      <td>844.268851</td>\n",
       "    </tr>\n",
       "  </tbody>\n",
       "</table>\n",
       "</div>"
      ],
      "text/plain": [
       "       TV  Sales Acutal  Sales Predicted\n",
       "0    69.2          1130      1047.623281\n",
       "1    50.0           840       959.288325\n",
       "2    90.4           870      1145.159795\n",
       "3   289.7          2540      2062.095042\n",
       "4   170.2          1170      1512.301956\n",
       "5    56.2           870       987.813155\n",
       "6     8.7           720       769.276154\n",
       "7   240.1          1320      1833.896406\n",
       "8    23.8           920       838.747917\n",
       "9   197.6          1660      1638.363300\n",
       "10  261.3          2420      1931.432920\n",
       "11   87.2          1060      1130.437303\n",
       "12  156.6          1050      1449.731363\n",
       "13  187.8          1560      1593.275666\n",
       "14   76.4          1180      1080.748890\n",
       "15  120.2          1320      1282.263008\n",
       "16  265.6          1740      1951.216269\n",
       "17    0.7           160       732.469923\n",
       "18   74.7          1470      1072.927566\n",
       "19  213.4          1700      1711.055607\n",
       "20  287.6          2620      2052.433406\n",
       "21  140.3          1030      1374.738665\n",
       "22  175.1          1490      1534.845773\n",
       "23  131.7          1290      1335.171966\n",
       "24   53.5           810       975.391052\n",
       "25  123.1          1520      1295.605267\n",
       "26  165.6          1260      1491.138373\n",
       "27  205.0          2260      1672.409064\n",
       "28  224.0          1160      1759.823864\n",
       "29   25.1           850       844.728929\n",
       "30   67.8          1250      1041.182191\n",
       "31  198.9          2370      1644.344313\n",
       "32  280.7          1610      2020.688032\n",
       "33  241.7          2180      1841.257652\n",
       "34   13.2           560       789.979660\n",
       "35   18.7           670       815.283944\n",
       "36   59.6           970      1003.455803\n",
       "37  180.8          1290      1561.070213\n",
       "38   68.4          1360      1043.942658\n",
       "39   25.0           720       844.268851"
      ]
     },
     "execution_count": 141,
     "metadata": {},
     "output_type": "execute_result"
    }
   ],
   "source": [
    "check"
   ]
  },
  {
   "cell_type": "markdown",
   "id": "477ecc91",
   "metadata": {},
   "source": [
    "# Visualize the regressor line"
   ]
  },
  {
   "cell_type": "code",
   "execution_count": 142,
   "id": "d1cf3418",
   "metadata": {},
   "outputs": [
    {
     "data": {
      "text/plain": [
       "[<matplotlib.lines.Line2D at 0x22524cf4b20>]"
      ]
     },
     "execution_count": 142,
     "metadata": {},
     "output_type": "execute_result"
    },
    {
     "data": {
      "image/png": "[encoded data removed]",
      "text/plain": [
       "<Figure size 432x288 with 1 Axes>"
      ]
     },
     "metadata": {
      "needs_background": "light"
     },
     "output_type": "display_data"
    }
   ],
   "source": [
    "plt.scatter(x,y,color = 'blue')\n",
    "plt.plot(x_test,y_pred,color = 'red')"
   ]
  }
 ],
 "metadata": {
  "kernelspec": {
   "display_name": "Python 3",
   "language": "python",
   "name": "python3"
  },
  "language_info": {
   "codemirror_mode": {
    "name": "ipython",
    "version": 3
   },
   "file_extension": ".py",
   "mimetype": "text/x-python",
   "name": "python",
   "nbconvert_exporter": "python",
   "pygments_lexer": "ipython3",
   "version": "3.8.8"
  }
 },
 "nbformat": 4,
 "nbformat_minor": 5
}
